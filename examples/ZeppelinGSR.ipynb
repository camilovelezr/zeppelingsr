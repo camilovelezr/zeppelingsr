{
 "cells": [
  {
   "cell_type": "markdown",
   "id": "d3a37df6",
   "metadata": {},
   "source": [
    "# Zeppelin GSR"
   ]
  },
  {
   "cell_type": "code",
   "execution_count": 1,
   "id": "14eb206b",
   "metadata": {},
   "outputs": [],
   "source": [
    "import zeppelingsr"
   ]
  },
  {
   "cell_type": "markdown",
   "id": "bb9c4e20",
   "metadata": {},
   "source": [
    "We start by creating the connection to our Cordra server that will be used (our Cordra Session). It can be run without any arguments and the user will be prompted to enter the information"
   ]
  },
  {
   "cell_type": "code",
   "execution_count": 2,
   "id": "486f1663",
   "metadata": {},
   "outputs": [
    {
     "name": "stdout",
     "output_type": "stream",
     "text": [
      "Insert your cordra host link: https://localhost:8443\n",
      "Insert your cordra username: admin\n",
      "Password: ········\n",
      "Enter cordra's prefix: test\n"
     ]
    }
   ],
   "source": [
    "c = zeppelingsr.CordraSession()"
   ]
  },
  {
   "cell_type": "markdown",
   "id": "db1df161",
   "metadata": {},
   "source": [
    "Any missing information, the user will be prompted to enter"
   ]
  },
  {
   "cell_type": "code",
   "execution_count": 3,
   "id": "92a0f392",
   "metadata": {},
   "outputs": [
    {
     "name": "stdout",
     "output_type": "stream",
     "text": [
      "Password: ········\n",
      "Enter cordra's prefix: test\n"
     ]
    }
   ],
   "source": [
    "c2 = zeppelingsr.CordraSession(host = \"https://localhost:8443\", username = \"admin\",\n",
    "                               acls = {\"readers\": [\"public\"], \"writers\" : [\"public\"]})"
   ]
  },
  {
   "cell_type": "markdown",
   "id": "4db98073",
   "metadata": {},
   "source": [
    "If the Cordra Token becomes inactive, we can restore the token with `CordraSession.restore_token()`"
   ]
  },
  {
   "cell_type": "code",
   "execution_count": 4,
   "id": "4e1998f8",
   "metadata": {},
   "outputs": [
    {
     "name": "stdout",
     "output_type": "stream",
     "text": [
      "Password: ········\n"
     ]
    }
   ],
   "source": [
    "c2.restore_token()"
   ]
  },
  {
   "cell_type": "markdown",
   "id": "5bb18051",
   "metadata": {},
   "source": [
    "## Zeppelin\n",
    "\n",
    "A `Zeppelin` object represents an entire sample of GSR particles. It contains objects of the class `ZeppelinDataset` which form from the combination of each pair of HDZ and PXZ files."
   ]
  },
  {
   "cell_type": "markdown",
   "id": "6be2f987",
   "metadata": {},
   "source": [
    "`Zeppelin` takes one and only one argument: the path of the folder containing the files. It does not have to be specifically the folder containing all the hdz and pxz files, these can be in a subfolder of the path provided to `Zeppelin`. `Zeppelin` will look for the folder that contains `data.hdz` and make that folder the main path."
   ]
  },
  {
   "cell_type": "code",
   "execution_count": 5,
   "id": "90c35549",
   "metadata": {},
   "outputs": [],
   "source": [
    "set1 = zeppelingsr.Zeppelin('/media/camilovelezr/D/NIST/GSRData_Management')"
   ]
  },
  {
   "cell_type": "code",
   "execution_count": 6,
   "id": "52e900b3",
   "metadata": {},
   "outputs": [
    {
     "data": {
      "text/plain": [
       "'4b67'"
      ]
     },
     "execution_count": 6,
     "metadata": {},
     "output_type": "execute_result"
    }
   ],
   "source": [
    "set1.uuid # 4 characters out of a randomly generated\n",
    "          # UUID4 that will serve to generate unique identifiers for this sample"
   ]
  },
  {
   "cell_type": "markdown",
   "id": "e541e3c7",
   "metadata": {},
   "source": [
    "### Attributes"
   ]
  },
  {
   "cell_type": "markdown",
   "id": "78bb7a2c",
   "metadata": {},
   "source": [
    "Note: `data.hdz` and `data.pxz` will be referred to as the <b> raw </b> reprocessing"
   ]
  },
  {
   "cell_type": "code",
   "execution_count": 7,
   "id": "4fc514c7",
   "metadata": {},
   "outputs": [
    {
     "data": {
      "text/plain": [
       "{'raw': 'gsr-2019-4b67/raw',\n",
       " 'graf3_gsrex_plus_generic_wo_gsr': 'gsr-2019-4b67/graf3_gsrex_plus_generic_wo_gsr',\n",
       " 'mllsq_generic_gsr': 'gsr-2019-4b67/mllsq_generic_gsr',\n",
       " 'mllsq': 'gsr-2019-4b67/mllsq',\n",
       " 'neQuant_graf3_gsr_plus_base': 'gsr-2019-4b67/neQuant_graf3_gsr_plus_base',\n",
       " 'neQuant': 'gsr-2019-4b67/neQuant',\n",
       " 'neQuantC0': 'gsr-2019-4b67/neQuantC0',\n",
       " 'neQuantC0s_JORS_GSR_plus_Base_': 'gsr-2019-4b67/neQuantC0s_JORS_GSR_plus_Base_',\n",
       " 'neQuantC3_gq': 'gsr-2019-4b67/neQuantC3_gq',\n",
       " 'neQuantC3s_JORS_GSR_plus_Base_': 'gsr-2019-4b67/neQuantC3s_JORS_GSR_plus_Base_',\n",
       " 'neQuantC3s': 'gsr-2019-4b67/neQuantC3s',\n",
       " 'neQuantC6s_JORS_GSR_plus_Base_': 'gsr-2019-4b67/neQuantC6s_JORS_GSR_plus_Base_',\n",
       " 'neQuantC6s': 'gsr-2019-4b67/neQuantC6s'}"
      ]
     },
     "execution_count": 7,
     "metadata": {},
     "output_type": "execute_result"
    }
   ],
   "source": [
    "set1.hdznames # dictionary with (key, value) = (hdzname, unique identifier for that reprocessing)"
   ]
  },
  {
   "cell_type": "code",
   "execution_count": 8,
   "id": "a76273e9",
   "metadata": {},
   "outputs": [
    {
     "data": {
      "text/plain": [
       "['/media/camilovelezr/D/NIST/GSRData_Management/Shooter #1 - Zero time/APA/Analysis 2019-07-17 10.58.57.-0400/data.hdz',\n",
       " '/media/camilovelezr/D/NIST/GSRData_Management/Shooter #1 - Zero time/APA/Analysis 2019-07-17 10.58.57.-0400/graf3 gsrex+generic_wo_gsr.hdz',\n",
       " '/media/camilovelezr/D/NIST/GSRData_Management/Shooter #1 - Zero time/APA/Analysis 2019-07-17 10.58.57.-0400/mllsq generic_gsr.hdz',\n",
       " '/media/camilovelezr/D/NIST/GSRData_Management/Shooter #1 - Zero time/APA/Analysis 2019-07-17 10.58.57.-0400/mllsq.hdz',\n",
       " '/media/camilovelezr/D/NIST/GSRData_Management/Shooter #1 - Zero time/APA/Analysis 2019-07-17 10.58.57.-0400/neQuant graf3 gsr+base.hdz',\n",
       " '/media/camilovelezr/D/NIST/GSRData_Management/Shooter #1 - Zero time/APA/Analysis 2019-07-17 10.58.57.-0400/neQuant.hdz',\n",
       " '/media/camilovelezr/D/NIST/GSRData_Management/Shooter #1 - Zero time/APA/Analysis 2019-07-17 10.58.57.-0400/neQuantC0.hdz',\n",
       " '/media/camilovelezr/D/NIST/GSRData_Management/Shooter #1 - Zero time/APA/Analysis 2019-07-17 10.58.57.-0400/neQuantC0s JORS[GSR+Base].hdz',\n",
       " '/media/camilovelezr/D/NIST/GSRData_Management/Shooter #1 - Zero time/APA/Analysis 2019-07-17 10.58.57.-0400/neQuantC3 gq.hdz',\n",
       " '/media/camilovelezr/D/NIST/GSRData_Management/Shooter #1 - Zero time/APA/Analysis 2019-07-17 10.58.57.-0400/neQuantC3s JORS[GSR+Base].hdz',\n",
       " '/media/camilovelezr/D/NIST/GSRData_Management/Shooter #1 - Zero time/APA/Analysis 2019-07-17 10.58.57.-0400/neQuantC3s.hdz',\n",
       " '/media/camilovelezr/D/NIST/GSRData_Management/Shooter #1 - Zero time/APA/Analysis 2019-07-17 10.58.57.-0400/neQuantC6s JORS[GSR+Base].hdz',\n",
       " '/media/camilovelezr/D/NIST/GSRData_Management/Shooter #1 - Zero time/APA/Analysis 2019-07-17 10.58.57.-0400/neQuantC6s.hdz']"
      ]
     },
     "execution_count": 8,
     "metadata": {},
     "output_type": "execute_result"
    }
   ],
   "source": [
    "set1.hdzs # full paths of all hdz files"
   ]
  },
  {
   "cell_type": "code",
   "execution_count": 9,
   "id": "c0c4afa7",
   "metadata": {},
   "outputs": [
    {
     "data": {
      "text/plain": [
       "['/media/camilovelezr/D/NIST/GSRData_Management/Shooter #1 - Zero time/APA/Analysis 2019-07-17 10.58.57.-0400/MAG0/00001.tif',\n",
       " '/media/camilovelezr/D/NIST/GSRData_Management/Shooter #1 - Zero time/APA/Analysis 2019-07-17 10.58.57.-0400/MAG0/00002.tif',\n",
       " '/media/camilovelezr/D/NIST/GSRData_Management/Shooter #1 - Zero time/APA/Analysis 2019-07-17 10.58.57.-0400/MAG0/00003.tif',\n",
       " '/media/camilovelezr/D/NIST/GSRData_Management/Shooter #1 - Zero time/APA/Analysis 2019-07-17 10.58.57.-0400/MAG0/00004.tif',\n",
       " '/media/camilovelezr/D/NIST/GSRData_Management/Shooter #1 - Zero time/APA/Analysis 2019-07-17 10.58.57.-0400/MAG0/00005.tif']"
      ]
     },
     "execution_count": 9,
     "metadata": {},
     "output_type": "execute_result"
    }
   ],
   "source": [
    "set1.images[0:5] # full path of all particle images (assumes they are contained in MAG0)"
   ]
  },
  {
   "cell_type": "code",
   "execution_count": 10,
   "id": "9b217ef5",
   "metadata": {},
   "outputs": [
    {
     "data": {
      "text/plain": [
       "[]"
      ]
     },
     "execution_count": 10,
     "metadata": {},
     "output_type": "execute_result"
    }
   ],
   "source": [
    "set1.missingpxz # in case a hdz file is found but not its respective pxz, that reprocessing will be ignored\n",
    "                # and the name of the hdz will be found here"
   ]
  },
  {
   "cell_type": "code",
   "execution_count": 11,
   "id": "07b7857d",
   "metadata": {},
   "outputs": [
    {
     "data": {
      "text/plain": [
       "16616"
      ]
     },
     "execution_count": 11,
     "metadata": {},
     "output_type": "execute_result"
    }
   ],
   "source": [
    "set1.nparticles # total number of particles in the sample"
   ]
  },
  {
   "cell_type": "code",
   "execution_count": 12,
   "id": "757f1db9",
   "metadata": {},
   "outputs": [
    {
     "data": {
      "text/plain": [
       "'/media/camilovelezr/D/NIST/GSRData_Management/Shooter #1 - Zero time/APA/Analysis 2019-07-17 10.58.57.-0400'"
      ]
     },
     "execution_count": 12,
     "metadata": {},
     "output_type": "execute_result"
    }
   ],
   "source": [
    "set1.path # full path of the folder containing data.hdz"
   ]
  },
  {
   "cell_type": "code",
   "execution_count": 13,
   "id": "a44ed21c",
   "metadata": {},
   "outputs": [
    {
     "data": {
      "text/plain": [
       "'Shooter #1 - Zero time'"
      ]
     },
     "execution_count": 13,
     "metadata": {},
     "output_type": "execute_result"
    }
   ],
   "source": [
    "set1.sample # name of the GSR sample"
   ]
  },
  {
   "cell_type": "code",
   "execution_count": 14,
   "id": "f6f654ca",
   "metadata": {},
   "outputs": [
    {
     "data": {
      "text/plain": [
       "'gsr-2019-4b67'"
      ]
     },
     "execution_count": 14,
     "metadata": {},
     "output_type": "execute_result"
    }
   ],
   "source": [
    "set1.suffix # suffix used for Cordra's unique identifiers"
   ]
  },
  {
   "cell_type": "markdown",
   "id": "74a6b64f",
   "metadata": {},
   "source": [
    "---\n",
    "## `ZeppelinDataset`\n",
    "\n",
    "`Zeppelin.datasets` contains a list of `ZeppelinDataset` objects"
   ]
  },
  {
   "cell_type": "code",
   "execution_count": 15,
   "id": "0739e723",
   "metadata": {},
   "outputs": [
    {
     "data": {
      "text/plain": [
       "[<zeppelingsr.zeppelingsr.ZeppelinDataset at 0x7ff3ad58ea90>,\n",
       " <zeppelingsr.zeppelingsr.ZeppelinDataset at 0x7ff3ad365d00>,\n",
       " <zeppelingsr.zeppelingsr.ZeppelinDataset at 0x7ff3dc64c850>,\n",
       " <zeppelingsr.zeppelingsr.ZeppelinDataset at 0x7ff3dc657460>,\n",
       " <zeppelingsr.zeppelingsr.ZeppelinDataset at 0x7ff3cd8e21f0>,\n",
       " <zeppelingsr.zeppelingsr.ZeppelinDataset at 0x7ff3ad23f220>,\n",
       " <zeppelingsr.zeppelingsr.ZeppelinDataset at 0x7ff3dc64c4f0>,\n",
       " <zeppelingsr.zeppelingsr.ZeppelinDataset at 0x7ff3dc657160>,\n",
       " <zeppelingsr.zeppelingsr.ZeppelinDataset at 0x7ff3dc653160>,\n",
       " <zeppelingsr.zeppelingsr.ZeppelinDataset at 0x7ff3dc64c940>,\n",
       " <zeppelingsr.zeppelingsr.ZeppelinDataset at 0x7ff3dc653280>,\n",
       " <zeppelingsr.zeppelingsr.ZeppelinDataset at 0x7ff3dc653730>,\n",
       " <zeppelingsr.zeppelingsr.ZeppelinDataset at 0x7ff3ad238fd0>]"
      ]
     },
     "execution_count": 15,
     "metadata": {},
     "output_type": "execute_result"
    }
   ],
   "source": [
    "set1.datasets"
   ]
  },
  {
   "cell_type": "code",
   "execution_count": 16,
   "id": "72ce75f8",
   "metadata": {},
   "outputs": [],
   "source": [
    "rds = set1.datasets[0]"
   ]
  },
  {
   "cell_type": "code",
   "execution_count": 17,
   "id": "2d7d0d5d",
   "metadata": {},
   "outputs": [
    {
     "data": {
      "text/plain": [
       "zeppelingsr.zeppelingsr.ZeppelinDataset"
      ]
     },
     "execution_count": 17,
     "metadata": {},
     "output_type": "execute_result"
    }
   ],
   "source": [
    "type(rds)"
   ]
  },
  {
   "cell_type": "code",
   "execution_count": 18,
   "id": "291c2e86",
   "metadata": {},
   "outputs": [
    {
     "data": {
      "text/html": [
       "<div>\n",
       "<style scoped>\n",
       "    .dataframe tbody tr th:only-of-type {\n",
       "        vertical-align: middle;\n",
       "    }\n",
       "\n",
       "    .dataframe tbody tr th {\n",
       "        vertical-align: top;\n",
       "    }\n",
       "\n",
       "    .dataframe thead th {\n",
       "        text-align: right;\n",
       "    }\n",
       "</style>\n",
       "<table border=\"1\" class=\"dataframe\">\n",
       "  <thead>\n",
       "    <tr style=\"text-align: right;\">\n",
       "      <th></th>\n",
       "      <th>NUMBER</th>\n",
       "      <th>FIELD</th>\n",
       "      <th>MAGFIELD</th>\n",
       "      <th>XABS</th>\n",
       "      <th>YABS</th>\n",
       "      <th>XDAC</th>\n",
       "      <th>YDAC</th>\n",
       "      <th>XFERET</th>\n",
       "      <th>YFERET</th>\n",
       "      <th>DAVG</th>\n",
       "      <th>...</th>\n",
       "      <th>Cr</th>\n",
       "      <th>Fe</th>\n",
       "      <th>Ni</th>\n",
       "      <th>Cu</th>\n",
       "      <th>Zn</th>\n",
       "      <th>Ge</th>\n",
       "      <th>Mo</th>\n",
       "      <th>Ba</th>\n",
       "      <th>Bi</th>\n",
       "      <th>U</th>\n",
       "    </tr>\n",
       "  </thead>\n",
       "  <tbody>\n",
       "    <tr>\n",
       "      <th>0</th>\n",
       "      <td>1</td>\n",
       "      <td>1</td>\n",
       "      <td>1</td>\n",
       "      <td>-0.869966</td>\n",
       "      <td>12.916458</td>\n",
       "      <td>46732</td>\n",
       "      <td>21992</td>\n",
       "      <td>2.456614</td>\n",
       "      <td>3.611136</td>\n",
       "      <td>2.505606</td>\n",
       "      <td>...</td>\n",
       "      <td>0.000000</td>\n",
       "      <td>0.360518</td>\n",
       "      <td>0.571687</td>\n",
       "      <td>0.445072</td>\n",
       "      <td>0.076489</td>\n",
       "      <td>0.463550</td>\n",
       "      <td>14.425573</td>\n",
       "      <td>73.523142</td>\n",
       "      <td>5.368328</td>\n",
       "      <td>0.000000</td>\n",
       "    </tr>\n",
       "    <tr>\n",
       "      <th>1</th>\n",
       "      <td>2</td>\n",
       "      <td>1</td>\n",
       "      <td>1</td>\n",
       "      <td>-0.648732</td>\n",
       "      <td>12.991146</td>\n",
       "      <td>21246</td>\n",
       "      <td>30596</td>\n",
       "      <td>2.621546</td>\n",
       "      <td>2.760435</td>\n",
       "      <td>2.472047</td>\n",
       "      <td>...</td>\n",
       "      <td>0.000000</td>\n",
       "      <td>0.000000</td>\n",
       "      <td>0.044662</td>\n",
       "      <td>0.000000</td>\n",
       "      <td>0.685593</td>\n",
       "      <td>0.000000</td>\n",
       "      <td>2.910003</td>\n",
       "      <td>0.000000</td>\n",
       "      <td>6.555829</td>\n",
       "      <td>1.525157</td>\n",
       "    </tr>\n",
       "    <tr>\n",
       "      <th>2</th>\n",
       "      <td>3</td>\n",
       "      <td>1</td>\n",
       "      <td>1</td>\n",
       "      <td>-0.696944</td>\n",
       "      <td>12.990903</td>\n",
       "      <td>26800</td>\n",
       "      <td>30568</td>\n",
       "      <td>0.946187</td>\n",
       "      <td>0.963548</td>\n",
       "      <td>0.883064</td>\n",
       "      <td>...</td>\n",
       "      <td>0.000000</td>\n",
       "      <td>88.320037</td>\n",
       "      <td>7.595335</td>\n",
       "      <td>0.142792</td>\n",
       "      <td>0.000000</td>\n",
       "      <td>0.000000</td>\n",
       "      <td>0.288931</td>\n",
       "      <td>0.000000</td>\n",
       "      <td>1.049041</td>\n",
       "      <td>1.489009</td>\n",
       "    </tr>\n",
       "    <tr>\n",
       "      <th>3</th>\n",
       "      <td>4</td>\n",
       "      <td>1</td>\n",
       "      <td>1</td>\n",
       "      <td>-0.777127</td>\n",
       "      <td>13.000330</td>\n",
       "      <td>36037</td>\n",
       "      <td>31654</td>\n",
       "      <td>3.576413</td>\n",
       "      <td>4.904547</td>\n",
       "      <td>3.650625</td>\n",
       "      <td>...</td>\n",
       "      <td>0.000000</td>\n",
       "      <td>0.714153</td>\n",
       "      <td>0.519721</td>\n",
       "      <td>0.059632</td>\n",
       "      <td>0.000000</td>\n",
       "      <td>0.037194</td>\n",
       "      <td>0.000000</td>\n",
       "      <td>0.000000</td>\n",
       "      <td>1.726588</td>\n",
       "      <td>0.000000</td>\n",
       "    </tr>\n",
       "    <tr>\n",
       "      <th>4</th>\n",
       "      <td>5</td>\n",
       "      <td>1</td>\n",
       "      <td>1</td>\n",
       "      <td>-0.864506</td>\n",
       "      <td>13.007517</td>\n",
       "      <td>46103</td>\n",
       "      <td>32482</td>\n",
       "      <td>5.503510</td>\n",
       "      <td>4.409752</td>\n",
       "      <td>4.109180</td>\n",
       "      <td>...</td>\n",
       "      <td>0.092845</td>\n",
       "      <td>0.275070</td>\n",
       "      <td>0.000000</td>\n",
       "      <td>0.000000</td>\n",
       "      <td>0.421934</td>\n",
       "      <td>0.264897</td>\n",
       "      <td>1.114173</td>\n",
       "      <td>0.283272</td>\n",
       "      <td>1.165991</td>\n",
       "      <td>1.213494</td>\n",
       "    </tr>\n",
       "    <tr>\n",
       "      <th>...</th>\n",
       "      <td>...</td>\n",
       "      <td>...</td>\n",
       "      <td>...</td>\n",
       "      <td>...</td>\n",
       "      <td>...</td>\n",
       "      <td>...</td>\n",
       "      <td>...</td>\n",
       "      <td>...</td>\n",
       "      <td>...</td>\n",
       "      <td>...</td>\n",
       "      <td>...</td>\n",
       "      <td>...</td>\n",
       "      <td>...</td>\n",
       "      <td>...</td>\n",
       "      <td>...</td>\n",
       "      <td>...</td>\n",
       "      <td>...</td>\n",
       "      <td>...</td>\n",
       "      <td>...</td>\n",
       "      <td>...</td>\n",
       "      <td>...</td>\n",
       "    </tr>\n",
       "    <tr>\n",
       "      <th>16611</th>\n",
       "      <td>16612</td>\n",
       "      <td>1421</td>\n",
       "      <td>1</td>\n",
       "      <td>2.678091</td>\n",
       "      <td>11.249974</td>\n",
       "      <td>21396</td>\n",
       "      <td>36455</td>\n",
       "      <td>1.345495</td>\n",
       "      <td>1.406260</td>\n",
       "      <td>1.142563</td>\n",
       "      <td>...</td>\n",
       "      <td>0.000000</td>\n",
       "      <td>0.000000</td>\n",
       "      <td>0.000000</td>\n",
       "      <td>0.000000</td>\n",
       "      <td>0.000000</td>\n",
       "      <td>0.000000</td>\n",
       "      <td>54.813505</td>\n",
       "      <td>3.803082</td>\n",
       "      <td>0.837546</td>\n",
       "      <td>15.197812</td>\n",
       "    </tr>\n",
       "    <tr>\n",
       "      <th>16612</th>\n",
       "      <td>16613</td>\n",
       "      <td>1421</td>\n",
       "      <td>1</td>\n",
       "      <td>2.627249</td>\n",
       "      <td>11.283316</td>\n",
       "      <td>27253</td>\n",
       "      <td>40296</td>\n",
       "      <td>8.993117</td>\n",
       "      <td>12.795226</td>\n",
       "      <td>8.570948</td>\n",
       "      <td>...</td>\n",
       "      <td>2.456432</td>\n",
       "      <td>0.946755</td>\n",
       "      <td>2.703157</td>\n",
       "      <td>1.676147</td>\n",
       "      <td>1.432430</td>\n",
       "      <td>0.000000</td>\n",
       "      <td>13.703568</td>\n",
       "      <td>4.448166</td>\n",
       "      <td>13.666840</td>\n",
       "      <td>44.068571</td>\n",
       "    </tr>\n",
       "    <tr>\n",
       "      <th>16613</th>\n",
       "      <td>16614</td>\n",
       "      <td>1421</td>\n",
       "      <td>1</td>\n",
       "      <td>2.638976</td>\n",
       "      <td>11.280243</td>\n",
       "      <td>25902</td>\n",
       "      <td>39942</td>\n",
       "      <td>3.350717</td>\n",
       "      <td>3.932318</td>\n",
       "      <td>2.737680</td>\n",
       "      <td>...</td>\n",
       "      <td>2.713485</td>\n",
       "      <td>4.887283</td>\n",
       "      <td>1.254468</td>\n",
       "      <td>1.881664</td>\n",
       "      <td>0.000000</td>\n",
       "      <td>0.000000</td>\n",
       "      <td>34.039196</td>\n",
       "      <td>8.123550</td>\n",
       "      <td>7.426981</td>\n",
       "      <td>15.240247</td>\n",
       "    </tr>\n",
       "    <tr>\n",
       "      <th>16614</th>\n",
       "      <td>16615</td>\n",
       "      <td>1421</td>\n",
       "      <td>1</td>\n",
       "      <td>2.593203</td>\n",
       "      <td>11.303560</td>\n",
       "      <td>31175</td>\n",
       "      <td>42628</td>\n",
       "      <td>1.701400</td>\n",
       "      <td>0.928826</td>\n",
       "      <td>1.187036</td>\n",
       "      <td>...</td>\n",
       "      <td>0.000000</td>\n",
       "      <td>0.000000</td>\n",
       "      <td>0.427718</td>\n",
       "      <td>0.000000</td>\n",
       "      <td>0.000000</td>\n",
       "      <td>1.299726</td>\n",
       "      <td>0.000000</td>\n",
       "      <td>11.676420</td>\n",
       "      <td>0.000000</td>\n",
       "      <td>0.000000</td>\n",
       "    </tr>\n",
       "    <tr>\n",
       "      <th>16615</th>\n",
       "      <td>16616</td>\n",
       "      <td>1421</td>\n",
       "      <td>1</td>\n",
       "      <td>2.464886</td>\n",
       "      <td>11.312952</td>\n",
       "      <td>45957</td>\n",
       "      <td>43710</td>\n",
       "      <td>2.881964</td>\n",
       "      <td>3.315995</td>\n",
       "      <td>2.801481</td>\n",
       "      <td>...</td>\n",
       "      <td>0.000000</td>\n",
       "      <td>0.268306</td>\n",
       "      <td>0.000000</td>\n",
       "      <td>0.323455</td>\n",
       "      <td>0.000000</td>\n",
       "      <td>0.000000</td>\n",
       "      <td>0.000000</td>\n",
       "      <td>1.102271</td>\n",
       "      <td>13.538564</td>\n",
       "      <td>0.000000</td>\n",
       "    </tr>\n",
       "  </tbody>\n",
       "</table>\n",
       "<p>16616 rows × 48 columns</p>\n",
       "</div>"
      ],
      "text/plain": [
       "       NUMBER  FIELD  MAGFIELD      XABS       YABS   XDAC   YDAC    XFERET  \\\n",
       "0           1      1         1 -0.869966  12.916458  46732  21992  2.456614   \n",
       "1           2      1         1 -0.648732  12.991146  21246  30596  2.621546   \n",
       "2           3      1         1 -0.696944  12.990903  26800  30568  0.946187   \n",
       "3           4      1         1 -0.777127  13.000330  36037  31654  3.576413   \n",
       "4           5      1         1 -0.864506  13.007517  46103  32482  5.503510   \n",
       "...       ...    ...       ...       ...        ...    ...    ...       ...   \n",
       "16611   16612   1421         1  2.678091  11.249974  21396  36455  1.345495   \n",
       "16612   16613   1421         1  2.627249  11.283316  27253  40296  8.993117   \n",
       "16613   16614   1421         1  2.638976  11.280243  25902  39942  3.350717   \n",
       "16614   16615   1421         1  2.593203  11.303560  31175  42628  1.701400   \n",
       "16615   16616   1421         1  2.464886  11.312952  45957  43710  2.881964   \n",
       "\n",
       "          YFERET      DAVG  ...        Cr         Fe        Ni        Cu  \\\n",
       "0       3.611136  2.505606  ...  0.000000   0.360518  0.571687  0.445072   \n",
       "1       2.760435  2.472047  ...  0.000000   0.000000  0.044662  0.000000   \n",
       "2       0.963548  0.883064  ...  0.000000  88.320037  7.595335  0.142792   \n",
       "3       4.904547  3.650625  ...  0.000000   0.714153  0.519721  0.059632   \n",
       "4       4.409752  4.109180  ...  0.092845   0.275070  0.000000  0.000000   \n",
       "...          ...       ...  ...       ...        ...       ...       ...   \n",
       "16611   1.406260  1.142563  ...  0.000000   0.000000  0.000000  0.000000   \n",
       "16612  12.795226  8.570948  ...  2.456432   0.946755  2.703157  1.676147   \n",
       "16613   3.932318  2.737680  ...  2.713485   4.887283  1.254468  1.881664   \n",
       "16614   0.928826  1.187036  ...  0.000000   0.000000  0.427718  0.000000   \n",
       "16615   3.315995  2.801481  ...  0.000000   0.268306  0.000000  0.323455   \n",
       "\n",
       "             Zn        Ge         Mo         Ba         Bi          U  \n",
       "0      0.076489  0.463550  14.425573  73.523142   5.368328   0.000000  \n",
       "1      0.685593  0.000000   2.910003   0.000000   6.555829   1.525157  \n",
       "2      0.000000  0.000000   0.288931   0.000000   1.049041   1.489009  \n",
       "3      0.000000  0.037194   0.000000   0.000000   1.726588   0.000000  \n",
       "4      0.421934  0.264897   1.114173   0.283272   1.165991   1.213494  \n",
       "...         ...       ...        ...        ...        ...        ...  \n",
       "16611  0.000000  0.000000  54.813505   3.803082   0.837546  15.197812  \n",
       "16612  1.432430  0.000000  13.703568   4.448166  13.666840  44.068571  \n",
       "16613  0.000000  0.000000  34.039196   8.123550   7.426981  15.240247  \n",
       "16614  0.000000  1.299726   0.000000  11.676420   0.000000   0.000000  \n",
       "16615  0.000000  0.000000   0.000000   1.102271  13.538564   0.000000  \n",
       "\n",
       "[16616 rows x 48 columns]"
      ]
     },
     "execution_count": 18,
     "metadata": {},
     "output_type": "execute_result"
    }
   ],
   "source": [
    "rds.df # pandas dataframe of the reprocessing"
   ]
  },
  {
   "cell_type": "code",
   "execution_count": 19,
   "id": "87d0b41a",
   "metadata": {},
   "outputs": [
    {
     "data": {
      "text/plain": [
       "'/media/camilovelezr/D/NIST/GSRData_Management/Shooter #1 - Zero time/APA/Analysis 2019-07-17 10.58.57.-0400/data.hdz'"
      ]
     },
     "execution_count": 19,
     "metadata": {},
     "output_type": "execute_result"
    }
   ],
   "source": [
    "rds.hdz # full path of the reprocessing's hdz"
   ]
  },
  {
   "cell_type": "code",
   "execution_count": 20,
   "id": "7a787bc7",
   "metadata": {},
   "outputs": [
    {
     "data": {
      "text/plain": [
       "'raw'"
      ]
     },
     "execution_count": 20,
     "metadata": {},
     "output_type": "execute_result"
    }
   ],
   "source": [
    "rds.hdzclean # \"clean\" version of the hdz name (no path, no spaces, data->raw)"
   ]
  },
  {
   "cell_type": "code",
   "execution_count": 21,
   "id": "b587e94f",
   "metadata": {},
   "outputs": [
    {
     "data": {
      "text/plain": [
       "{'PARAMETERS': '166',\n",
       " 'HEADER_FMT': 'ZEPP_1',\n",
       " 'ACCELERATING_VOLTAGE': {'value': 25.0, 'unitText': 'kV'},\n",
       " 'ANALYSIS_DATE': '2019-07-17',\n",
       " 'CLASS0': 'Low counts',\n",
       " 'CLASS1': 'Uranium-bearing',\n",
       " 'CLASS10': 'Feldspar',\n",
       " 'CLASS11': 'Willemite',\n",
       " 'CLASS12': 'Garnet',\n",
       " 'CLASS13': 'Al-Cu alloy (2XXX)',\n",
       " 'CLASS14': 'Al-Mn alloy (3XXX)',\n",
       " 'CLASS15': 'Al-Si alloy (4XXX)',\n",
       " 'CLASS16': 'Al-Mg alloy (5XXX)',\n",
       " 'CLASS17': 'Al-Si-Mg (6XXX)',\n",
       " 'CLASS18': 'Al-Zn alloy (7XXX)',\n",
       " 'CLASS19': 'Al-Fe alloy',\n",
       " 'CLASS2': 'Thorium-bearing',\n",
       " 'CLASS20': 'Aluminosilicate',\n",
       " 'CLASS21': 'Zircon',\n",
       " 'CLASS22': 'Elgiloy',\n",
       " 'CLASS23': 'Aluminum',\n",
       " 'CLASS24': 'Fe-Al alloy',\n",
       " 'CLASS25': 'Calcium silicate',\n",
       " 'CLASS26': 'Fe-Cr stainless',\n",
       " 'CLASS27': 'Fe-Cr-Ni Stainless',\n",
       " 'CLASS28': 'Fe-Ni stainless',\n",
       " 'CLASS29': 'Iron oxide',\n",
       " 'CLASS3': 'Maraging',\n",
       " 'CLASS30': 'Iron',\n",
       " 'CLASS31': 'Calcite',\n",
       " 'CLASS32': 'Zinc',\n",
       " 'CLASS33': 'Silicate',\n",
       " 'CLASS34': 'Anglesite',\n",
       " 'CLASS35': 'Hashemite',\n",
       " 'CLASS36': 'Barite',\n",
       " 'CLASS37': 'Gypsum',\n",
       " 'CLASS38': 'Lead',\n",
       " 'CLASS39': 'Salt',\n",
       " 'CLASS4': 'Quartz-like',\n",
       " 'CLASS40': 'Bismuth',\n",
       " 'CLASS41': 'Brass',\n",
       " 'CLASS42': 'Brass',\n",
       " 'CLASS43': 'Bronze',\n",
       " 'CLASS44': 'Cupronickel',\n",
       " 'CLASS45': 'Sodium sulfide',\n",
       " 'CLASS46': 'Wurtzite (ZnS)',\n",
       " 'CLASS47': 'Pyrite (FeS2)',\n",
       " 'CLASS48': 'Silver sulfide',\n",
       " 'CLASS49': 'Sn62 solder',\n",
       " 'CLASS5': 'Biotite',\n",
       " 'CLASS50': 'SACZ solder',\n",
       " 'CLASS51': 'Lead solder',\n",
       " 'CLASS52': 'SAC solder',\n",
       " 'CLASS53': 'Titanium',\n",
       " 'CLASS54': 'Calcium phosphate',\n",
       " 'CLASS55': 'Calcium fluoride',\n",
       " 'CLASS56': 'Iron-bearing',\n",
       " 'CLASS57': 'Ca-bearing',\n",
       " 'CLASS58': 'Other Silicate',\n",
       " 'CLASS59': 'Gold-Silver alloy',\n",
       " 'CLASS6': 'Plagioclaise',\n",
       " 'CLASS60': 'Gold - other',\n",
       " 'CLASS61': 'Tin',\n",
       " 'CLASS62': 'Celestine',\n",
       " 'CLASS63': 'Barite-Celestine',\n",
       " 'CLASS64': 'Cu-rich',\n",
       " 'CLASS65': 'Cr-bearing',\n",
       " 'CLASS66': 'Silver sulfide',\n",
       " 'CLASS67': 'Silver',\n",
       " 'CLASS68': 'MoS2',\n",
       " 'CLASS69': 'Monazite',\n",
       " 'CLASS7': 'Othoclaise',\n",
       " 'CLASS70': 'Lanthanide',\n",
       " 'CLASS71': '#Unclassified#',\n",
       " 'CLASS8': 'Dolomite',\n",
       " 'CLASS9': 'Olivine',\n",
       " 'CLASSES': '72',\n",
       " 'COMPANY': 'DOC NIST MML - 637.02',\n",
       " 'DATAFILES': \"D:\\\\Projects\\\\Amy's GSR\\\\Shooter #1 - Zero time\\\\APA\\\\Analysis 2019-07-17 10.58.57.-0400\\\\data.*\",\n",
       " 'DESCRIPTION': \"Amy's GSR Shooter #1 - Zero time\",\n",
       " 'ELEM0': 'Na 11 1',\n",
       " 'ELEM1': 'Mg 12 1',\n",
       " 'ELEM10': 'Cu 29 1',\n",
       " 'ELEM11': 'Zn 30 1',\n",
       " 'ELEM12': 'Ge 32 1',\n",
       " 'ELEM13': 'Mo 42 1',\n",
       " 'ELEM14': 'Ba 56 1',\n",
       " 'ELEM15': 'Bi 83 1',\n",
       " 'ELEM16': 'U 92 1',\n",
       " 'ELEM2': 'Al 13 1',\n",
       " 'ELEM3': 'Si 14 1',\n",
       " 'ELEM4': 'S 16 1',\n",
       " 'ELEM5': 'Ca 20 1',\n",
       " 'ELEM6': 'Ti 22 1',\n",
       " 'ELEM7': 'Cr 24 1',\n",
       " 'ELEM8': 'Fe 26 1',\n",
       " 'ELEM9': 'Ni 28 1',\n",
       " 'ELEMENTS': '17',\n",
       " 'INSTRUMENT': \"NIST's TESCAN MIRA3 in 217 F101\",\n",
       " 'LOW_MAG': '0',\n",
       " 'MAG0': '347 1421 16616 243.42 93.127',\n",
       " 'MAGNIFICATIONS': '1',\n",
       " 'MAG_FMT': 'Mag Fields Particles Time Area',\n",
       " 'OPERATOR': 'Nicholas W. M. Ritchie',\n",
       " 'PARTICLE_FILE': 'data.pxz',\n",
       " 'PROBE_CURRENT': {'value': 0.924249, 'unitText': 'nA'},\n",
       " 'PROJECT': \"Amy's GSR\",\n",
       " 'RULE_FILE': 'ASPEX-type rule set[generic.zrr]',\n",
       " 'SAMPLE': 'Shooter #1 - Zero time',\n",
       " 'STAGE_FILE': 'tiling.xml',\n",
       " 'START_TIME': '10:58:57 AM EDT',\n",
       " 'TECHNIQUE': 'RCA - Point mode EDS',\n",
       " 'TILING': 'Circular[C={X:-1.261,Y:13.266,Z:23.961,Rotate:-0.00,Tilt:-0.00}, R=5.603 mm, Underfill]',\n",
       " 'TOTAL_PARTICLES': '16616',\n",
       " 'VEC_FILE': 'QuickQuant[Global - 10 eV/ch - FWHM[Mn K?]=132.0 eV - 2017-04-28 00:00,25.0 keV][39 vectors][17 vectors]',\n",
       " 'WORKING_DISTANCE': {'value': 16.9881, 'unitText': 'mm'},\n",
       " 'PARTICLE_PARAMETERS': '48',\n",
       " 'DATETIME': '2019-07-17T15:58:57+00:00',\n",
       " 'MAG_DATA': {'value': 347.0, 'unitText': 'Assuming a 3.5 in field of view'},\n",
       " 'FIELDS': {'value': 1421.0, 'unitText': ''},\n",
       " 'PARTICLES': {'value': 16616.0, 'unitText': ''},\n",
       " 'TIME': {'value': 243.42, 'unitText': 'min'},\n",
       " 'AREA_DATA': {'value': 93.127, 'unitText': 'sq mm'}}"
      ]
     },
     "execution_count": 21,
     "metadata": {},
     "output_type": "execute_result"
    }
   ],
   "source": [
    "rds.header # reprocessing's metadata (hdz file content)"
   ]
  },
  {
   "cell_type": "code",
   "execution_count": 22,
   "id": "ffd71753",
   "metadata": {},
   "outputs": [
    {
     "data": {
      "text/plain": [
       "{'NUMBER': 100,\n",
       " 'FIELD': 8,\n",
       " 'MAGFIELD': 1,\n",
       " 'XABS': -1.5017880932,\n",
       " 'YABS': 15.8006421896,\n",
       " 'XDAC': 31048,\n",
       " 'YDAC': 29854,\n",
       " 'XFERET': 0.9114645146,\n",
       " 'YFERET': 1.0937574175,\n",
       " 'DAVG': 0.9140910667,\n",
       " 'DMAX': 1.0937574175,\n",
       " 'DMIN': 0.712498148,\n",
       " 'DPERP': 0.8682350374,\n",
       " 'ASPECT': 1.5351021199,\n",
       " 'AREA': 0.6639358715,\n",
       " 'PERIMETER': 3.3775674491,\n",
       " 'ORIENTATION': 90.0,\n",
       " 'MAG': 0.0063992435,\n",
       " 'VIDEO': 51,\n",
       " 'CLASS': 'Iron',\n",
       " 'FIRSTELM': 'Fe',\n",
       " 'SECONDELM': 'Ge',\n",
       " 'THIRDELM': 'Na',\n",
       " 'FOURTHELM': 'Zn',\n",
       " 'FIRSTPCT': 92.7760487668,\n",
       " 'SECONDPCT': 1.4251926094,\n",
       " 'THIRDPCT': 1.3893776708,\n",
       " 'FOURTHPCT': 1.0773899611,\n",
       " 'LIVETIME': 0.3,\n",
       " 'COUNTS': 17946.0,\n",
       " 'TYPE4ET': 0,\n",
       " 'Na': 1.3893776708,\n",
       " 'Mg': 0.0,\n",
       " 'Al': 0.5318284388,\n",
       " 'Si': 0.1852798452,\n",
       " 'S': 0.1903598206,\n",
       " 'Ca': 0.2229306177,\n",
       " 'Ti': 0.3217917851,\n",
       " 'Cr': 0.3431601779,\n",
       " 'Fe': 92.7760487668,\n",
       " 'Ni': 0.6372592123,\n",
       " 'Cu': 0.0,\n",
       " 'Zn': 1.0773899611,\n",
       " 'Ge': 1.4251926094,\n",
       " 'Mo': 0.0,\n",
       " 'Ba': 0.7940830959,\n",
       " 'Bi': 0.0,\n",
       " 'U': 0.1052979985}"
      ]
     },
     "execution_count": 22,
     "metadata": {},
     "output_type": "execute_result"
    }
   ],
   "source": [
    "rds.json(100) # JSON representation of one row of the dataframe (usage: .json(rownumber))"
   ]
  },
  {
   "cell_type": "code",
   "execution_count": 23,
   "id": "155e828f",
   "metadata": {},
   "outputs": [
    {
     "data": {
      "text/plain": [
       "{'PARAMETERS': '166',\n",
       " 'HEADER_FMT': 'ZEPP_1',\n",
       " 'ACCELERATING_VOLTAGE': {'value': 25.0, 'unitText': 'kV'},\n",
       " 'ANALYSIS_DATE': '2019-07-17',\n",
       " 'CLASS0': 'Low counts',\n",
       " 'CLASS1': 'Uranium-bearing',\n",
       " 'CLASS10': 'Feldspar',\n",
       " 'CLASS11': 'Willemite',\n",
       " 'CLASS12': 'Garnet',\n",
       " 'CLASS13': 'Al-Cu alloy (2XXX)',\n",
       " 'CLASS14': 'Al-Mn alloy (3XXX)',\n",
       " 'CLASS15': 'Al-Si alloy (4XXX)',\n",
       " 'CLASS16': 'Al-Mg alloy (5XXX)',\n",
       " 'CLASS17': 'Al-Si-Mg (6XXX)',\n",
       " 'CLASS18': 'Al-Zn alloy (7XXX)',\n",
       " 'CLASS19': 'Al-Fe alloy',\n",
       " 'CLASS2': 'Thorium-bearing',\n",
       " 'CLASS20': 'Aluminosilicate',\n",
       " 'CLASS21': 'Zircon',\n",
       " 'CLASS22': 'Elgiloy',\n",
       " 'CLASS23': 'Aluminum',\n",
       " 'CLASS24': 'Fe-Al alloy',\n",
       " 'CLASS25': 'Calcium silicate',\n",
       " 'CLASS26': 'Fe-Cr stainless',\n",
       " 'CLASS27': 'Fe-Cr-Ni Stainless',\n",
       " 'CLASS28': 'Fe-Ni stainless',\n",
       " 'CLASS29': 'Iron oxide',\n",
       " 'CLASS3': 'Maraging',\n",
       " 'CLASS30': 'Iron',\n",
       " 'CLASS31': 'Calcite',\n",
       " 'CLASS32': 'Zinc',\n",
       " 'CLASS33': 'Silicate',\n",
       " 'CLASS34': 'Anglesite',\n",
       " 'CLASS35': 'Hashemite',\n",
       " 'CLASS36': 'Barite',\n",
       " 'CLASS37': 'Gypsum',\n",
       " 'CLASS38': 'Lead',\n",
       " 'CLASS39': 'Salt',\n",
       " 'CLASS4': 'Quartz-like',\n",
       " 'CLASS40': 'Bismuth',\n",
       " 'CLASS41': 'Brass',\n",
       " 'CLASS42': 'Brass',\n",
       " 'CLASS43': 'Bronze',\n",
       " 'CLASS44': 'Cupronickel',\n",
       " 'CLASS45': 'Sodium sulfide',\n",
       " 'CLASS46': 'Wurtzite (ZnS)',\n",
       " 'CLASS47': 'Pyrite (FeS2)',\n",
       " 'CLASS48': 'Silver sulfide',\n",
       " 'CLASS49': 'Sn62 solder',\n",
       " 'CLASS5': 'Biotite',\n",
       " 'CLASS50': 'SACZ solder',\n",
       " 'CLASS51': 'Lead solder',\n",
       " 'CLASS52': 'SAC solder',\n",
       " 'CLASS53': 'Titanium',\n",
       " 'CLASS54': 'Calcium phosphate',\n",
       " 'CLASS55': 'Calcium fluoride',\n",
       " 'CLASS56': 'Iron-bearing',\n",
       " 'CLASS57': 'Ca-bearing',\n",
       " 'CLASS58': 'Other Silicate',\n",
       " 'CLASS59': 'Gold-Silver alloy',\n",
       " 'CLASS6': 'Plagioclaise',\n",
       " 'CLASS60': 'Gold - other',\n",
       " 'CLASS61': 'Tin',\n",
       " 'CLASS62': 'Celestine',\n",
       " 'CLASS63': 'Barite-Celestine',\n",
       " 'CLASS64': 'Cu-rich',\n",
       " 'CLASS65': 'Cr-bearing',\n",
       " 'CLASS66': 'Silver sulfide',\n",
       " 'CLASS67': 'Silver',\n",
       " 'CLASS68': 'MoS2',\n",
       " 'CLASS69': 'Monazite',\n",
       " 'CLASS7': 'Othoclaise',\n",
       " 'CLASS70': 'Lanthanide',\n",
       " 'CLASS71': '#Unclassified#',\n",
       " 'CLASS8': 'Dolomite',\n",
       " 'CLASS9': 'Olivine',\n",
       " 'CLASSES': '72',\n",
       " 'COMPANY': 'DOC NIST MML - 637.02',\n",
       " 'DATAFILES': \"D:\\\\Projects\\\\Amy's GSR\\\\Shooter #1 - Zero time\\\\APA\\\\Analysis 2019-07-17 10.58.57.-0400\\\\data.*\",\n",
       " 'DESCRIPTION': \"Amy's GSR Shooter #1 - Zero time\",\n",
       " 'ELEM0': 'Na 11 1',\n",
       " 'ELEM1': 'Mg 12 1',\n",
       " 'ELEM10': 'Cu 29 1',\n",
       " 'ELEM11': 'Zn 30 1',\n",
       " 'ELEM12': 'Ge 32 1',\n",
       " 'ELEM13': 'Mo 42 1',\n",
       " 'ELEM14': 'Ba 56 1',\n",
       " 'ELEM15': 'Bi 83 1',\n",
       " 'ELEM16': 'U 92 1',\n",
       " 'ELEM2': 'Al 13 1',\n",
       " 'ELEM3': 'Si 14 1',\n",
       " 'ELEM4': 'S 16 1',\n",
       " 'ELEM5': 'Ca 20 1',\n",
       " 'ELEM6': 'Ti 22 1',\n",
       " 'ELEM7': 'Cr 24 1',\n",
       " 'ELEM8': 'Fe 26 1',\n",
       " 'ELEM9': 'Ni 28 1',\n",
       " 'ELEMENTS': '17',\n",
       " 'INSTRUMENT': \"NIST's TESCAN MIRA3 in 217 F101\",\n",
       " 'LOW_MAG': '0',\n",
       " 'MAG0': '347 1421 16616 243.42 93.127',\n",
       " 'MAGNIFICATIONS': '1',\n",
       " 'MAG_FMT': 'Mag Fields Particles Time Area',\n",
       " 'OPERATOR': 'Nicholas W. M. Ritchie',\n",
       " 'PARTICLE_FILE': 'data.pxz',\n",
       " 'PROBE_CURRENT': {'value': 0.924249, 'unitText': 'nA'},\n",
       " 'PROJECT': \"Amy's GSR\",\n",
       " 'RULE_FILE': 'ASPEX-type rule set[generic.zrr]',\n",
       " 'SAMPLE': 'Shooter #1 - Zero time',\n",
       " 'STAGE_FILE': 'tiling.xml',\n",
       " 'START_TIME': '10:58:57 AM EDT',\n",
       " 'TECHNIQUE': 'RCA - Point mode EDS',\n",
       " 'TILING': 'Circular[C={X:-1.261,Y:13.266,Z:23.961,Rotate:-0.00,Tilt:-0.00}, R=5.603 mm, Underfill]',\n",
       " 'TOTAL_PARTICLES': '16616',\n",
       " 'VEC_FILE': 'QuickQuant[Global - 10 eV/ch - FWHM[Mn K?]=132.0 eV - 2017-04-28 00:00,25.0 keV][39 vectors][17 vectors]',\n",
       " 'WORKING_DISTANCE': {'value': 16.9881, 'unitText': 'mm'},\n",
       " 'PARTICLE_PARAMETERS': '48',\n",
       " 'DATETIME': '2019-07-17T15:58:57+00:00',\n",
       " 'MAG_DATA': {'value': 347.0, 'unitText': 'Assuming a 3.5 in field of view'},\n",
       " 'FIELDS': {'value': 1421.0, 'unitText': ''},\n",
       " 'PARTICLES': {'value': 16616.0, 'unitText': ''},\n",
       " 'TIME': {'value': 243.42, 'unitText': 'min'},\n",
       " 'AREA_DATA': {'value': 93.127, 'unitText': 'sq mm'},\n",
       " 'NUMBER': 100,\n",
       " 'FIELD': 8,\n",
       " 'MAGFIELD': 1,\n",
       " 'XABS': -1.5017880932,\n",
       " 'YABS': 15.8006421896,\n",
       " 'XDAC': 31048,\n",
       " 'YDAC': 29854,\n",
       " 'XFERET': 0.9114645146,\n",
       " 'YFERET': 1.0937574175,\n",
       " 'DAVG': 0.9140910667,\n",
       " 'DMAX': 1.0937574175,\n",
       " 'DMIN': 0.712498148,\n",
       " 'DPERP': 0.8682350374,\n",
       " 'ASPECT': 1.5351021199,\n",
       " 'AREA': 0.6639358715,\n",
       " 'PERIMETER': 3.3775674491,\n",
       " 'ORIENTATION': 90.0,\n",
       " 'MAG': 0.0063992435,\n",
       " 'VIDEO': 51,\n",
       " 'CLASS': 'Iron',\n",
       " 'FIRSTELM': 'Fe',\n",
       " 'SECONDELM': 'Ge',\n",
       " 'THIRDELM': 'Na',\n",
       " 'FOURTHELM': 'Zn',\n",
       " 'FIRSTPCT': 92.7760487668,\n",
       " 'SECONDPCT': 1.4251926094,\n",
       " 'THIRDPCT': 1.3893776708,\n",
       " 'FOURTHPCT': 1.0773899611,\n",
       " 'LIVETIME': 0.3,\n",
       " 'COUNTS': 17946.0,\n",
       " 'TYPE4ET': 0,\n",
       " 'Na': 1.3893776708,\n",
       " 'Mg': 0.0,\n",
       " 'Al': 0.5318284388,\n",
       " 'Si': 0.1852798452,\n",
       " 'S': 0.1903598206,\n",
       " 'Ca': 0.2229306177,\n",
       " 'Ti': 0.3217917851,\n",
       " 'Cr': 0.3431601779,\n",
       " 'Fe': 92.7760487668,\n",
       " 'Ni': 0.6372592123,\n",
       " 'Cu': 0.0,\n",
       " 'Zn': 1.0773899611,\n",
       " 'Ge': 1.4251926094,\n",
       " 'Mo': 0.0,\n",
       " 'Ba': 0.7940830959,\n",
       " 'Bi': 0.0,\n",
       " 'U': 0.1052979985}"
      ]
     },
     "execution_count": 23,
     "metadata": {},
     "output_type": "execute_result"
    }
   ],
   "source": [
    "rds.json_metadata(100) # JSON representation of one row of the dataframe with the metadata prepended"
   ]
  },
  {
   "cell_type": "code",
   "execution_count": 24,
   "id": "cfe8073b",
   "metadata": {},
   "outputs": [
    {
     "data": {
      "text/html": [
       "<div>\n",
       "<style scoped>\n",
       "    .dataframe tbody tr th:only-of-type {\n",
       "        vertical-align: middle;\n",
       "    }\n",
       "\n",
       "    .dataframe tbody tr th {\n",
       "        vertical-align: top;\n",
       "    }\n",
       "\n",
       "    .dataframe thead th {\n",
       "        text-align: right;\n",
       "    }\n",
       "</style>\n",
       "<table border=\"1\" class=\"dataframe\">\n",
       "  <thead>\n",
       "    <tr style=\"text-align: right;\">\n",
       "      <th></th>\n",
       "      <th>NUMBER</th>\n",
       "      <th>XABS</th>\n",
       "      <th>YABS</th>\n",
       "      <th>DAVG</th>\n",
       "      <th>DMIN</th>\n",
       "      <th>DMAX</th>\n",
       "      <th>DPERP</th>\n",
       "      <th>PERIMETER</th>\n",
       "      <th>ORIENTATION</th>\n",
       "      <th>AREA</th>\n",
       "    </tr>\n",
       "  </thead>\n",
       "  <tbody>\n",
       "    <tr>\n",
       "      <th>0</th>\n",
       "      <td>1</td>\n",
       "      <td>-0.869966</td>\n",
       "      <td>12.916458</td>\n",
       "      <td>2.505606</td>\n",
       "      <td>2.140330</td>\n",
       "      <td>3.682310</td>\n",
       "      <td>2.545434</td>\n",
       "      <td>9.381919</td>\n",
       "      <td>101.25</td>\n",
       "      <td>4.942709</td>\n",
       "    </tr>\n",
       "    <tr>\n",
       "      <th>1</th>\n",
       "      <td>2</td>\n",
       "      <td>-0.648732</td>\n",
       "      <td>12.991146</td>\n",
       "      <td>2.472047</td>\n",
       "      <td>2.065694</td>\n",
       "      <td>2.814086</td>\n",
       "      <td>2.604184</td>\n",
       "      <td>8.506772</td>\n",
       "      <td>101.25</td>\n",
       "      <td>4.816041</td>\n",
       "    </tr>\n",
       "    <tr>\n",
       "      <th>2</th>\n",
       "      <td>3</td>\n",
       "      <td>-0.696944</td>\n",
       "      <td>12.990903</td>\n",
       "      <td>0.883064</td>\n",
       "      <td>0.743954</td>\n",
       "      <td>1.068033</td>\n",
       "      <td>0.852293</td>\n",
       "      <td>3.128021</td>\n",
       "      <td>45.00</td>\n",
       "      <td>0.623019</td>\n",
       "    </tr>\n",
       "    <tr>\n",
       "      <th>3</th>\n",
       "      <td>4</td>\n",
       "      <td>-0.777127</td>\n",
       "      <td>13.000330</td>\n",
       "      <td>3.650625</td>\n",
       "      <td>3.159744</td>\n",
       "      <td>5.001676</td>\n",
       "      <td>3.335367</td>\n",
       "      <td>13.777610</td>\n",
       "      <td>101.25</td>\n",
       "      <td>10.812638</td>\n",
       "    </tr>\n",
       "    <tr>\n",
       "      <th>4</th>\n",
       "      <td>5</td>\n",
       "      <td>-0.864506</td>\n",
       "      <td>13.007517</td>\n",
       "      <td>4.109180</td>\n",
       "      <td>2.982622</td>\n",
       "      <td>5.709872</td>\n",
       "      <td>3.302309</td>\n",
       "      <td>16.802461</td>\n",
       "      <td>157.50</td>\n",
       "      <td>14.299337</td>\n",
       "    </tr>\n",
       "    <tr>\n",
       "      <th>...</th>\n",
       "      <td>...</td>\n",
       "      <td>...</td>\n",
       "      <td>...</td>\n",
       "      <td>...</td>\n",
       "      <td>...</td>\n",
       "      <td>...</td>\n",
       "      <td>...</td>\n",
       "      <td>...</td>\n",
       "      <td>...</td>\n",
       "      <td>...</td>\n",
       "    </tr>\n",
       "    <tr>\n",
       "      <th>16611</th>\n",
       "      <td>16612</td>\n",
       "      <td>2.678091</td>\n",
       "      <td>11.249974</td>\n",
       "      <td>1.142563</td>\n",
       "      <td>0.902283</td>\n",
       "      <td>1.334812</td>\n",
       "      <td>1.213952</td>\n",
       "      <td>4.996219</td>\n",
       "      <td>22.50</td>\n",
       "      <td>1.051703</td>\n",
       "    </tr>\n",
       "    <tr>\n",
       "      <th>16612</th>\n",
       "      <td>16613</td>\n",
       "      <td>2.627249</td>\n",
       "      <td>11.283316</td>\n",
       "      <td>8.570948</td>\n",
       "      <td>5.363306</td>\n",
       "      <td>13.847623</td>\n",
       "      <td>8.924862</td>\n",
       "      <td>55.452400</td>\n",
       "      <td>112.50</td>\n",
       "      <td>58.663983</td>\n",
       "    </tr>\n",
       "    <tr>\n",
       "      <th>16613</th>\n",
       "      <td>16614</td>\n",
       "      <td>2.638976</td>\n",
       "      <td>11.280243</td>\n",
       "      <td>2.737680</td>\n",
       "      <td>0.066110</td>\n",
       "      <td>3.960463</td>\n",
       "      <td>2.484613</td>\n",
       "      <td>16.921855</td>\n",
       "      <td>56.25</td>\n",
       "      <td>6.915490</td>\n",
       "    </tr>\n",
       "    <tr>\n",
       "      <th>16614</th>\n",
       "      <td>16615</td>\n",
       "      <td>2.593203</td>\n",
       "      <td>11.303560</td>\n",
       "      <td>1.187036</td>\n",
       "      <td>0.815978</td>\n",
       "      <td>1.614594</td>\n",
       "      <td>0.960886</td>\n",
       "      <td>4.398619</td>\n",
       "      <td>0.00</td>\n",
       "      <td>1.155163</td>\n",
       "    </tr>\n",
       "    <tr>\n",
       "      <th>16615</th>\n",
       "      <td>16616</td>\n",
       "      <td>2.464886</td>\n",
       "      <td>11.312952</td>\n",
       "      <td>2.801481</td>\n",
       "      <td>2.471309</td>\n",
       "      <td>3.125021</td>\n",
       "      <td>2.938359</td>\n",
       "      <td>9.624634</td>\n",
       "      <td>90.00</td>\n",
       "      <td>6.206229</td>\n",
       "    </tr>\n",
       "  </tbody>\n",
       "</table>\n",
       "<p>16616 rows × 10 columns</p>\n",
       "</div>"
      ],
      "text/plain": [
       "       NUMBER      XABS       YABS      DAVG      DMIN       DMAX     DPERP  \\\n",
       "0           1 -0.869966  12.916458  2.505606  2.140330   3.682310  2.545434   \n",
       "1           2 -0.648732  12.991146  2.472047  2.065694   2.814086  2.604184   \n",
       "2           3 -0.696944  12.990903  0.883064  0.743954   1.068033  0.852293   \n",
       "3           4 -0.777127  13.000330  3.650625  3.159744   5.001676  3.335367   \n",
       "4           5 -0.864506  13.007517  4.109180  2.982622   5.709872  3.302309   \n",
       "...       ...       ...        ...       ...       ...        ...       ...   \n",
       "16611   16612  2.678091  11.249974  1.142563  0.902283   1.334812  1.213952   \n",
       "16612   16613  2.627249  11.283316  8.570948  5.363306  13.847623  8.924862   \n",
       "16613   16614  2.638976  11.280243  2.737680  0.066110   3.960463  2.484613   \n",
       "16614   16615  2.593203  11.303560  1.187036  0.815978   1.614594  0.960886   \n",
       "16615   16616  2.464886  11.312952  2.801481  2.471309   3.125021  2.938359   \n",
       "\n",
       "       PERIMETER  ORIENTATION       AREA  \n",
       "0       9.381919       101.25   4.942709  \n",
       "1       8.506772       101.25   4.816041  \n",
       "2       3.128021        45.00   0.623019  \n",
       "3      13.777610       101.25  10.812638  \n",
       "4      16.802461       157.50  14.299337  \n",
       "...          ...          ...        ...  \n",
       "16611   4.996219        22.50   1.051703  \n",
       "16612  55.452400       112.50  58.663983  \n",
       "16613  16.921855        56.25   6.915490  \n",
       "16614   4.398619         0.00   1.155163  \n",
       "16615   9.624634        90.00   6.206229  \n",
       "\n",
       "[16616 rows x 10 columns]"
      ]
     },
     "execution_count": 24,
     "metadata": {},
     "output_type": "execute_result"
    }
   ],
   "source": [
    "rds.morphology() # method to get a dataframe of the morphology (properties of the particles that do not change\n",
    "                 # over reprocessings)"
   ]
  },
  {
   "cell_type": "code",
   "execution_count": 25,
   "id": "283788f2",
   "metadata": {},
   "outputs": [
    {
     "data": {
      "text/plain": [
       "'/media/camilovelezr/D/NIST/GSRData_Management/Shooter #1 - Zero time/APA/Analysis 2019-07-17 10.58.57.-0400/data.pxz'"
      ]
     },
     "execution_count": 25,
     "metadata": {},
     "output_type": "execute_result"
    }
   ],
   "source": [
    "rds.pxz # full path of the pxz file"
   ]
  },
  {
   "cell_type": "markdown",
   "id": "fe00de38",
   "metadata": {},
   "source": [
    "---"
   ]
  },
  {
   "cell_type": "code",
   "execution_count": 26,
   "id": "3d253fe9",
   "metadata": {},
   "outputs": [
    {
     "data": {
      "text/plain": [
       "'graf3_gsrex_plus_generic_wo_gsr'"
      ]
     },
     "execution_count": 26,
     "metadata": {},
     "output_type": "execute_result"
    }
   ],
   "source": [
    "set1.datasets[1].hdzclean"
   ]
  },
  {
   "cell_type": "markdown",
   "id": "32c4c120",
   "metadata": {},
   "source": [
    "## `Zeppelin` Methods"
   ]
  },
  {
   "cell_type": "code",
   "execution_count": 27,
   "id": "d8d075ba",
   "metadata": {},
   "outputs": [
    {
     "name": "stdout",
     "output_type": "stream",
     "text": [
      "Succesfully uploaded sample with id test/gsr-2019-4b67\n"
     ]
    }
   ],
   "source": [
    "set1.upload_sample(c) # uploads a Material object that represents the entire sample"
   ]
  },
  {
   "cell_type": "markdown",
   "id": "0ebd476d",
   "metadata": {},
   "source": [
    "`upload_raw_particles(CordraSession, maxim=None)` To upload only the first 10 particles, `maxim=10` , if `maxim` is not specified, it will upload all particles in the sample"
   ]
  },
  {
   "cell_type": "markdown",
   "id": "b93995af",
   "metadata": {},
   "source": [
    "The rest of upload methods use a progressbar that is only visible on the Jupyter notebook log"
   ]
  },
  {
   "cell_type": "code",
   "execution_count": 28,
   "id": "e0989a91",
   "metadata": {},
   "outputs": [],
   "source": [
    "set1.upload_raw_particles(c2, 10) # uploads raw particles as Material (morphology parameters)"
   ]
  },
  {
   "cell_type": "code",
   "execution_count": 29,
   "id": "00f42362",
   "metadata": {},
   "outputs": [],
   "source": [
    "set1.upload_images(c2, 10) # uploads particle images"
   ]
  },
  {
   "cell_type": "markdown",
   "id": "de980edf",
   "metadata": {},
   "source": [
    "![Progress Bar](Pictures/bar.png)"
   ]
  },
  {
   "cell_type": "code",
   "execution_count": 30,
   "id": "607a47b2",
   "metadata": {},
   "outputs": [],
   "source": [
    "set1.upload_metadata(c2)"
   ]
  },
  {
   "cell_type": "code",
   "execution_count": 31,
   "id": "346f2fee",
   "metadata": {},
   "outputs": [],
   "source": [
    "set1.upload_particles(c2, 10)"
   ]
  },
  {
   "cell_type": "markdown",
   "id": "8ecdb899",
   "metadata": {},
   "source": [
    "To run all these commands - that is, to upload images, metadata, raw particles, and particles at once - simply run `.upload_all(CordraSession, maxim)` where `maxim` (if specified) is the first $n$ particles to be uploaded; if `maxim` is not specified, it will upload everything in the `Zeppelin` sample."
   ]
  }
 ],
 "metadata": {
  "interpreter": {
   "hash": "42fd441d7a6a0e68452898c59d141518b7c626358a96098f5c1194e5a6f59572"
  },
  "kernelspec": {
   "display_name": "Python 3 (ipykernel)",
   "language": "python",
   "name": "python3"
  },
  "language_info": {
   "codemirror_mode": {
    "name": "ipython",
    "version": 3
   },
   "file_extension": ".py",
   "mimetype": "text/x-python",
   "name": "python",
   "nbconvert_exporter": "python",
   "pygments_lexer": "ipython3",
   "version": "3.8.10"
  }
 },
 "nbformat": 4,
 "nbformat_minor": 5
}
